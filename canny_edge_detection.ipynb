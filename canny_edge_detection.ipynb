{
 "cells": [
  {
   "cell_type": "code",
   "execution_count": 1,
   "metadata": {},
   "outputs": [],
   "source": [
    "import cv2\n",
    "import numpy as np\n",
    "import matplotlib.pyplot as plt\n",
    "\n",
    "\n"
   ]
  },
  {
   "cell_type": "code",
   "execution_count": 39,
   "metadata": {},
   "outputs": [
    {
     "name": "stdout",
     "output_type": "stream",
     "text": [
      "(712, 559, 3)\n",
      "(400, 314, 3)\n"
     ]
    }
   ],
   "source": [
    "img_path = 'image.jpg'\n",
    "\n",
    "scale = 400  # 단위 mm 그리고자 하는 캔버스의 실제 긴 길이 부분\n",
    "img = cv2.imread(img_path)\n",
    "print(img.shape)  # shape [0] : 세로, shape [1] : 가로\n",
    "if (img.shape[0] < img.shape[1]):\n",
    "    img_resized = cv2.resize(img, (scale, scale * img.shape[0]//img.shape[1]))\n",
    "else:\n",
    "    img_resized = cv2.resize(img, (scale * img.shape[1]//img.shape[0], scale))\n",
    "print(img_resized.shape)\n",
    "threshold1 = 200\n",
    "threshold2 = 250\n",
    "edge_img = cv2.Canny(img_resized, threshold1, threshold2)\n",
    "\n",
    "# plt.figure(figsize=(12, 6))\n",
    "\n",
    "# # 원본 이미지 표시\n",
    "# plt.subplot(1, 2, 1)\n",
    "# plt.imshow(cv2.cvtColor(img, cv2.COLOR_BGR2RGB))\n",
    "# plt.title('Original Image')\n",
    "# plt.axis('off')\n",
    "\n",
    "# # 엣지 표시\n",
    "# plt.subplot(1, 2, 2)\n",
    "# plt.imshow(edge_img, cmap='gray')\n",
    "# plt.title('Edges')\n",
    "# plt.axis('off')\n",
    "\n",
    "k = cv2.getStructuringElement(cv2.MORPH_RECT, (3,3))\n",
    "# 팽창 연산 적용 ---②\n",
    "dst = cv2.dilate(edge_img, k)\n",
    "\n",
    "# 결과 출력\n",
    "merged = np.hstack((edge_img, dst))\n",
    "cv2.imshow('Dilation', merged)\n",
    "cv2.waitKey(0)\n",
    "cv2.destroyAllWindows()"
   ]
  },
  {
   "cell_type": "code",
   "execution_count": null,
   "metadata": {},
   "outputs": [],
   "source": []
  }
 ],
 "metadata": {
  "kernelspec": {
   "display_name": "base",
   "language": "python",
   "name": "python3"
  },
  "language_info": {
   "codemirror_mode": {
    "name": "ipython",
    "version": 3
   },
   "file_extension": ".py",
   "mimetype": "text/x-python",
   "name": "python",
   "nbconvert_exporter": "python",
   "pygments_lexer": "ipython3",
   "version": "3.11.7"
  }
 },
 "nbformat": 4,
 "nbformat_minor": 2
}
